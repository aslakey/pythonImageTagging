{
 "cells": [
  {
   "cell_type": "code",
   "execution_count": 14,
   "metadata": {
    "collapsed": false
   },
   "outputs": [],
   "source": [
    "import numpy as np\n",
    "from skimage.io import imread\n",
    "from skimage.filters import threshold_otsu\n",
    "from skimage.transform import resize\n",
    "#import cPickle\n",
    "from matplotlib import pyplot as plt\n",
    "from skimage.morphology import closing, square\n",
    "from skimage.measure import regionprops\n",
    "from skimage import restoration\n",
    "from skimage import measure\n",
    "from skimage.color import label2rgb\n",
    "import matplotlib.patches as mpatches\n",
    "import os\n",
    "import skimage\n",
    "from skimage import io\n",
    "from skimage.viewer import ImageViewer"
   ]
  },
  {
   "cell_type": "code",
   "execution_count": 21,
   "metadata": {
    "collapsed": false
   },
   "outputs": [],
   "source": [
    "filename = os.path.join(skimage.data_dir, 'P:\\\\School\\\\Python_Fall2015\\\\Project\\\\sampleImage.jpg')\n",
    "chk = io.imread(filename,as_grey = True)"
   ]
  },
  {
   "cell_type": "code",
   "execution_count": 66,
   "metadata": {
    "collapsed": false
   },
   "outputs": [
    {
     "data": {
      "text/plain": [
       "[]"
      ]
     },
     "execution_count": 66,
     "metadata": {},
     "output_type": "execute_result"
    }
   ],
   "source": [
    "#Process one\n",
    "image = restoration.denoise_tv_chambolle(chk, weight=0.1)\n",
    "thresh = threshold_otsu(image)\n",
    "bw = closing(image > thresh, square(2))\n",
    "cleared = bw.copy()\n",
    "viewer = ImageViewer(cleared)\n",
    "viewer.show()"
   ]
  },
  {
   "cell_type": "code",
   "execution_count": 40,
   "metadata": {
    "collapsed": true
   },
   "outputs": [],
   "source": [
    "#Process two\n",
    "label_image = measure.label(cleared)\n",
    "borders = np.logical_xor(bw, cleared)\n",
    "label_image[borders] = -1\n",
    "\n",
    "\n",
    "coordinates = []\n",
    "i=0\n",
    "        \n",
    "for region in regionprops(label_image):\n",
    "    if region.area > 10:\n",
    "        minr, minc, maxr, maxc = region.bbox\n",
    "        margin = 3\n",
    "        minr, minc, maxr, maxc = minr-margin, minc-margin, maxr+margin, maxc+margin\n",
    "        roi = chk[minr:maxr, minc:maxc]\n",
    "        if roi.shape[0]*roi.shape[1] == 0:\n",
    "            continue\n",
    "        else:\n",
    "            if i==0:\n",
    "                samples = resize(roi, (20,20))\n",
    "                coordinates.append(region.bbox)\n",
    "                i+=1\n",
    "            elif i==1:\n",
    "                roismall = resize(roi, (20,20))\n",
    "                samples = np.concatenate((samples[None,:,:], roismall[None,:,:]), axis=0)\n",
    "                coordinates.append(region.bbox)\n",
    "                i+=1\n",
    "            else:\n",
    "                roismall = resize(roi, (20,20))\n",
    "                samples = np.concatenate((samples[:,:,:], roismall[None,:,:]), axis=0)\n",
    "                coordinates.append(region.bbox)\n",
    "\n",
    "candidates = {\n",
    "                    'fullscale': samples,          \n",
    "                    'flattened': samples.reshape((samples.shape[0], -1)),\n",
    "                    'coordinates': np.array(coordinates)\n",
    "                    }\n"
   ]
  },
  {
   "cell_type": "code",
   "execution_count": 73,
   "metadata": {
    "collapsed": false
   },
   "outputs": [
    {
     "name": "stdout",
     "output_type": "stream",
     "text": [
      "[[ 59 628 113 695]\n",
      " [ 89 654  97 660]\n",
      " [ 90 613 108 634]\n",
      " ..., \n",
      " [743 579 756 583]\n",
      " [748 525 752 534]\n",
      " [750 564 757 567]]\n"
     ]
    }
   ],
   "source": [
    "from scipy.misc import toimage\n",
    "print(candidates['coordinates'])\n",
    "test = chk[59:113,628:695]\n",
    "toimage(test).show()"
   ]
  },
  {
   "cell_type": "code",
   "execution_count": 62,
   "metadata": {
    "collapsed": false
   },
   "outputs": [
    {
     "data": {
      "text/plain": [
       "array([[False, False, False, ..., False, False, False],\n",
       "       [False, False, False, ..., False, False, False],\n",
       "       [False, False, False, ..., False, False, False],\n",
       "       ..., \n",
       "       [False, False, False, ..., False, False, False],\n",
       "       [False, False, False, ..., False, False, False],\n",
       "       [False, False, False, ..., False, False, False]], dtype=bool)"
      ]
     },
     "execution_count": 62,
     "metadata": {},
     "output_type": "execute_result"
    }
   ],
   "source": [
    "from skimage.segmentation import clear_border\n",
    "from skimage import data\n",
    "image = data.coins()[50:-50, 50:-50]\n",
    "\n",
    "# apply threshold\n",
    "thresh = threshold_otsu(image)\n",
    "bw = closing(image > thresh, square(3))\n",
    "\n",
    "# remove artifacts connected to image border\n",
    "cleared = bw.copy()\n",
    "clear_border(cleared)"
   ]
  },
  {
   "cell_type": "code",
   "execution_count": 74,
   "metadata": {
    "collapsed": false
   },
   "outputs": [
    {
     "name": "stdout",
     "output_type": "stream",
     "text": [
      "[[[ 0.91980824  0.91480824  0.91941608 ...,  0.90787373  0.91217608\n",
      "    0.90345059]\n",
      "  [ 0.82120353  0.94394863  0.91590941 ...,  0.90003059  0.90443098\n",
      "    0.90090157]\n",
      "  [ 0.70494039  0.74141098  0.89797961 ...,  0.91032471  0.91609765\n",
      "    0.9047251 ]\n",
      "  ..., \n",
      "  [ 0.88570902  0.79092766  0.59450892 ...,  0.56806431  0.63655311\n",
      "    0.52884924]\n",
      "  [ 0.86716925  0.84163934  0.86165686 ...,  0.61839608  0.78527621\n",
      "    0.83637575]\n",
      "  [ 0.91621751  0.90628588  0.90090971 ...,  0.75692824  0.8580102\n",
      "    0.84702196]]\n",
      "\n",
      " [[ 0.13289647  0.14068253  0.15654233 ...,  0.30839033  0.32239033\n",
      "    0.26537893]\n",
      "  [ 0.13289647  0.1680946   0.1809259  ...,  0.3845281   0.39249478\n",
      "    0.31824472]\n",
      "  [ 0.13289647  0.17872455  0.21153637 ...,  0.39543294  0.39610365\n",
      "    0.31724063]\n",
      "  ..., \n",
      "  [ 0.39981004  0.50009831  0.50060196 ...,  0.71269373  0.73395949\n",
      "    0.59850933]\n",
      "  [ 0.41799241  0.50947103  0.4899418  ...,  0.7006192   0.70624231\n",
      "    0.56799285]\n",
      "  [ 0.3571832   0.4282906   0.401008   ...,  0.53437933  0.52509273\n",
      "    0.41512133]]\n",
      "\n",
      " [[ 0.39754246  0.48093113  0.66043426 ...,  0.43127863  0.23684233\n",
      "    0.18603755]\n",
      "  [ 0.52102481  0.40219255  0.46992865 ...,  0.43934699  0.24227858\n",
      "    0.18723854]\n",
      "  [ 0.64264885  0.53800019  0.43703319 ...,  0.58489103  0.25447687\n",
      "    0.19645527]\n",
      "  ..., \n",
      "  [ 0.91822952  0.92118367  0.92288475 ...,  0.45698588  0.60204222\n",
      "    0.76791583]\n",
      "  [ 0.91942858  0.9213806   0.92377068 ...,  0.68925486  0.75618336\n",
      "    0.80306518]\n",
      "  [ 0.92113267  0.92256534  0.92389358 ...,  0.8069347   0.8176245\n",
      "    0.87156982]]\n",
      "\n",
      " ..., \n",
      " [[ 0.53826567  0.68901109  0.63165815 ...,  0.74760859  0.71948729\n",
      "    0.52906999]\n",
      "  [ 0.4564229   0.51113739  0.31628445 ...,  0.57803968  0.65115137\n",
      "    0.51578041]\n",
      "  [ 0.15984614  0.16978815  0.08310808 ...,  0.23045926  0.40570201\n",
      "    0.36999254]\n",
      "  ..., \n",
      "  [ 0.03428551  0.03921279  0.02621034 ...,  0.08269608  0.17330314\n",
      "    0.163955  ]\n",
      "  [ 0.16300552  0.17187685  0.08094915 ...,  0.24408096  0.38836822\n",
      "    0.34538389]\n",
      "  [ 0.4505323   0.5051215   0.31394503 ...,  0.50623998  0.60334482\n",
      "    0.48892293]]\n",
      "\n",
      " [[ 0.45404239  0.49907563  0.48244559 ...,  0.54432625  0.55330882\n",
      "    0.50344669]\n",
      "  [ 0.62616038  0.69682945  0.67502158 ...,  0.74149794  0.75586548\n",
      "    0.67720033]\n",
      "  [ 0.66770143  0.75962001  0.73854317 ...,  0.77295716  0.79210624\n",
      "    0.68907648]\n",
      "  ..., \n",
      "  [ 0.59516694  0.67523043  0.67652844 ...,  0.70325877  0.69255392\n",
      "    0.59733719]\n",
      "  [ 0.59615346  0.67626952  0.67515239 ...,  0.70825309  0.69733471\n",
      "    0.60013668]\n",
      "  [ 0.44748504  0.5075918   0.50584827 ...,  0.53306268  0.52479382\n",
      "    0.45115232]]\n",
      "\n",
      " [[ 0.46681709  0.64331947  0.64186359 ...,  0.0082557   0.00815073\n",
      "    0.00587969]\n",
      "  [ 0.58194741  0.77266158  0.6954557  ...,  0.00895579  0.00948866\n",
      "    0.00702952]\n",
      "  [ 0.53826872  0.68474858  0.53640024 ...,  0.00832481  0.00976099\n",
      "    0.00748164]\n",
      "  ..., \n",
      "  [ 0.01651838  0.02242368  0.02149721 ...,  0.03613831  0.03081559\n",
      "    0.02084059]\n",
      "  [ 0.23242714  0.28796002  0.20405653 ...,  0.14360209  0.18073945\n",
      "    0.14150677]\n",
      "  [ 0.35126075  0.43524024  0.30857847 ...,  0.19629209  0.25889503\n",
      "    0.20534945]]]\n"
     ]
    }
   ],
   "source": [
    "print(samples)"
   ]
  },
  {
   "cell_type": "code",
   "execution_count": null,
   "metadata": {
    "collapsed": true
   },
   "outputs": [],
   "source": []
  }
 ],
 "metadata": {
  "kernelspec": {
   "display_name": "Python 3",
   "language": "python",
   "name": "python3"
  },
  "language_info": {
   "codemirror_mode": {
    "name": "ipython",
    "version": 3
   },
   "file_extension": ".py",
   "mimetype": "text/x-python",
   "name": "python",
   "nbconvert_exporter": "python",
   "pygments_lexer": "ipython3",
   "version": "3.4.3"
  }
 },
 "nbformat": 4,
 "nbformat_minor": 0
}
